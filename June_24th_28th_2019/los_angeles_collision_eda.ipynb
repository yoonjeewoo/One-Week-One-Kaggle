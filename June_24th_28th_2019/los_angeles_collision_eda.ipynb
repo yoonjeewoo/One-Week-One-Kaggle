{
 "cells": [
  {
   "cell_type": "markdown",
   "metadata": {},
   "source": [
    "# LA Traffic Accidents EDA"
   ]
  },
  {
   "cell_type": "code",
   "execution_count": 1,
   "metadata": {
    "collapsed": true
   },
   "outputs": [],
   "source": [
    "%matplotlib inline\n",
    "\n",
    "import pandas as pd\n",
    "import numpy as np\n",
    "import seaborn as sns\n",
    "import matplotlib.pyplot as plt\n",
    "import ast"
   ]
  },
  {
   "cell_type": "markdown",
   "metadata": {},
   "source": [
    "## Preprocessing"
   ]
  },
  {
   "cell_type": "code",
   "execution_count": 2,
   "metadata": {},
   "outputs": [
    {
     "data": {
      "text/html": [
       "<div>\n",
       "<style scoped>\n",
       "    .dataframe tbody tr th:only-of-type {\n",
       "        vertical-align: middle;\n",
       "    }\n",
       "\n",
       "    .dataframe tbody tr th {\n",
       "        vertical-align: top;\n",
       "    }\n",
       "\n",
       "    .dataframe thead th {\n",
       "        text-align: right;\n",
       "    }\n",
       "</style>\n",
       "<table border=\"1\" class=\"dataframe\">\n",
       "  <thead>\n",
       "    <tr style=\"text-align: right;\">\n",
       "      <th></th>\n",
       "      <th>DR Number</th>\n",
       "      <th>Date Reported</th>\n",
       "      <th>Date Occurred</th>\n",
       "      <th>Time Occurred</th>\n",
       "      <th>Area ID</th>\n",
       "      <th>Area Name</th>\n",
       "      <th>Reporting District</th>\n",
       "      <th>Crime Code</th>\n",
       "      <th>Crime Code Description</th>\n",
       "      <th>MO Codes</th>\n",
       "      <th>...</th>\n",
       "      <th>Premise Description</th>\n",
       "      <th>Address</th>\n",
       "      <th>Cross Street</th>\n",
       "      <th>Location</th>\n",
       "      <th>Zip Codes</th>\n",
       "      <th>Census Tracts</th>\n",
       "      <th>Precinct Boundaries</th>\n",
       "      <th>LA Specific Plans</th>\n",
       "      <th>Council Districts</th>\n",
       "      <th>Neighborhood Councils (Certified)</th>\n",
       "    </tr>\n",
       "  </thead>\n",
       "  <tbody>\n",
       "    <tr>\n",
       "      <th>0</th>\n",
       "      <td>191216137</td>\n",
       "      <td>2019-06-15T00:00:00.000</td>\n",
       "      <td>2019-06-15T00:00:00.000</td>\n",
       "      <td>330</td>\n",
       "      <td>12</td>\n",
       "      <td>77th Street</td>\n",
       "      <td>1203</td>\n",
       "      <td>997</td>\n",
       "      <td>TRAFFIC COLLISION</td>\n",
       "      <td>4025 3028 3101 3006 3030</td>\n",
       "      <td>...</td>\n",
       "      <td>STREET</td>\n",
       "      <td>52ND                         ST</td>\n",
       "      <td>WESTERN                      AV</td>\n",
       "      <td>{'longitude': '-118.3089', 'latitude': '33.995...</td>\n",
       "      <td>24027.0</td>\n",
       "      <td>742.0</td>\n",
       "      <td>1049.0</td>\n",
       "      <td>7.0</td>\n",
       "      <td>14.0</td>\n",
       "      <td>35.0</td>\n",
       "    </tr>\n",
       "    <tr>\n",
       "      <th>1</th>\n",
       "      <td>191011095</td>\n",
       "      <td>2019-06-15T00:00:00.000</td>\n",
       "      <td>2019-06-15T00:00:00.000</td>\n",
       "      <td>1425</td>\n",
       "      <td>10</td>\n",
       "      <td>West Valley</td>\n",
       "      <td>1017</td>\n",
       "      <td>997</td>\n",
       "      <td>TRAFFIC COLLISION</td>\n",
       "      <td>NaN</td>\n",
       "      <td>...</td>\n",
       "      <td>PARKING LOT</td>\n",
       "      <td>17200    SATICOY                      ST</td>\n",
       "      <td>NaN</td>\n",
       "      <td>{'longitude': '-118.5077', 'latitude': '34.208...</td>\n",
       "      <td>19734.0</td>\n",
       "      <td>259.0</td>\n",
       "      <td>315.0</td>\n",
       "      <td>NaN</td>\n",
       "      <td>3.0</td>\n",
       "      <td>61.0</td>\n",
       "    </tr>\n",
       "    <tr>\n",
       "      <th>2</th>\n",
       "      <td>190411077</td>\n",
       "      <td>2019-06-15T00:00:00.000</td>\n",
       "      <td>2019-06-15T00:00:00.000</td>\n",
       "      <td>1200</td>\n",
       "      <td>4</td>\n",
       "      <td>Hollenbeck</td>\n",
       "      <td>469</td>\n",
       "      <td>997</td>\n",
       "      <td>TRAFFIC COLLISION</td>\n",
       "      <td>4024 3036 3004 3026 3034 3029 3101</td>\n",
       "      <td>...</td>\n",
       "      <td>STREET</td>\n",
       "      <td>4TH                          ST</td>\n",
       "      <td>INDIANA                      ST</td>\n",
       "      <td>{'longitude': '-118.1924', 'latitude': '34.032...</td>\n",
       "      <td>24028.0</td>\n",
       "      <td>516.0</td>\n",
       "      <td>956.0</td>\n",
       "      <td>NaN</td>\n",
       "      <td>9.0</td>\n",
       "      <td>38.0</td>\n",
       "    </tr>\n",
       "    <tr>\n",
       "      <th>3</th>\n",
       "      <td>190511313</td>\n",
       "      <td>2019-06-15T00:00:00.000</td>\n",
       "      <td>2019-06-15T00:00:00.000</td>\n",
       "      <td>850</td>\n",
       "      <td>5</td>\n",
       "      <td>Harbor</td>\n",
       "      <td>504</td>\n",
       "      <td>997</td>\n",
       "      <td>TRAFFIC COLLISION</td>\n",
       "      <td>NaN</td>\n",
       "      <td>...</td>\n",
       "      <td>STREET</td>\n",
       "      <td>1600 W  207TH                        ST</td>\n",
       "      <td>NaN</td>\n",
       "      <td>{'longitude': '-118.3066', 'latitude': '33.842...</td>\n",
       "      <td>25715.0</td>\n",
       "      <td>944.0</td>\n",
       "      <td>825.0</td>\n",
       "      <td>NaN</td>\n",
       "      <td>15.0</td>\n",
       "      <td>55.0</td>\n",
       "    </tr>\n",
       "    <tr>\n",
       "      <th>4</th>\n",
       "      <td>191814225</td>\n",
       "      <td>2019-06-15T00:00:00.000</td>\n",
       "      <td>2019-06-15T00:00:00.000</td>\n",
       "      <td>435</td>\n",
       "      <td>18</td>\n",
       "      <td>Southeast</td>\n",
       "      <td>1846</td>\n",
       "      <td>997</td>\n",
       "      <td>TRAFFIC COLLISION</td>\n",
       "      <td>4025 3028 3101 3006 3030</td>\n",
       "      <td>...</td>\n",
       "      <td>STREET</td>\n",
       "      <td>EVERS                        AV</td>\n",
       "      <td>111TH                        ST</td>\n",
       "      <td>{'longitude': '-118.2473', 'latitude': '33.934...</td>\n",
       "      <td>24354.0</td>\n",
       "      <td>821.0</td>\n",
       "      <td>1186.0</td>\n",
       "      <td>7.0</td>\n",
       "      <td>15.0</td>\n",
       "      <td>40.0</td>\n",
       "    </tr>\n",
       "  </tbody>\n",
       "</table>\n",
       "<p>5 rows × 24 columns</p>\n",
       "</div>"
      ],
      "text/plain": [
       "   DR Number            Date Reported            Date Occurred  Time Occurred  \\\n",
       "0  191216137  2019-06-15T00:00:00.000  2019-06-15T00:00:00.000            330   \n",
       "1  191011095  2019-06-15T00:00:00.000  2019-06-15T00:00:00.000           1425   \n",
       "2  190411077  2019-06-15T00:00:00.000  2019-06-15T00:00:00.000           1200   \n",
       "3  190511313  2019-06-15T00:00:00.000  2019-06-15T00:00:00.000            850   \n",
       "4  191814225  2019-06-15T00:00:00.000  2019-06-15T00:00:00.000            435   \n",
       "\n",
       "   Area ID    Area Name  Reporting District  Crime Code  \\\n",
       "0       12  77th Street                1203         997   \n",
       "1       10  West Valley                1017         997   \n",
       "2        4   Hollenbeck                 469         997   \n",
       "3        5       Harbor                 504         997   \n",
       "4       18    Southeast                1846         997   \n",
       "\n",
       "  Crime Code Description                            MO Codes  ...  \\\n",
       "0      TRAFFIC COLLISION            4025 3028 3101 3006 3030  ...   \n",
       "1      TRAFFIC COLLISION                                 NaN  ...   \n",
       "2      TRAFFIC COLLISION  4024 3036 3004 3026 3034 3029 3101  ...   \n",
       "3      TRAFFIC COLLISION                                 NaN  ...   \n",
       "4      TRAFFIC COLLISION            4025 3028 3101 3006 3030  ...   \n",
       "\n",
       "   Premise Description                                   Address  \\\n",
       "0               STREET           52ND                         ST   \n",
       "1          PARKING LOT  17200    SATICOY                      ST   \n",
       "2               STREET           4TH                          ST   \n",
       "3               STREET   1600 W  207TH                        ST   \n",
       "4               STREET           EVERS                        AV   \n",
       "\n",
       "                      Cross Street  \\\n",
       "0  WESTERN                      AV   \n",
       "1                              NaN   \n",
       "2  INDIANA                      ST   \n",
       "3                              NaN   \n",
       "4  111TH                        ST   \n",
       "\n",
       "                                            Location Zip Codes Census Tracts  \\\n",
       "0  {'longitude': '-118.3089', 'latitude': '33.995...   24027.0         742.0   \n",
       "1  {'longitude': '-118.5077', 'latitude': '34.208...   19734.0         259.0   \n",
       "2  {'longitude': '-118.1924', 'latitude': '34.032...   24028.0         516.0   \n",
       "3  {'longitude': '-118.3066', 'latitude': '33.842...   25715.0         944.0   \n",
       "4  {'longitude': '-118.2473', 'latitude': '33.934...   24354.0         821.0   \n",
       "\n",
       "  Precinct Boundaries LA Specific Plans  Council Districts  \\\n",
       "0              1049.0               7.0               14.0   \n",
       "1               315.0               NaN                3.0   \n",
       "2               956.0               NaN                9.0   \n",
       "3               825.0               NaN               15.0   \n",
       "4              1186.0               7.0               15.0   \n",
       "\n",
       "   Neighborhood Councils (Certified)  \n",
       "0                               35.0  \n",
       "1                               61.0  \n",
       "2                               38.0  \n",
       "3                               55.0  \n",
       "4                               40.0  \n",
       "\n",
       "[5 rows x 24 columns]"
      ]
     },
     "execution_count": 2,
     "metadata": {},
     "output_type": "execute_result"
    }
   ],
   "source": [
    "df = pd.read_csv(\"data/traffic-collision-data-from-2010-to-present.csv\")\n",
    "df.head()"
   ]
  },
  {
   "cell_type": "code",
   "execution_count": 3,
   "metadata": {},
   "outputs": [
    {
     "name": "stdout",
     "output_type": "stream",
     "text": [
      "<class 'pandas.core.frame.DataFrame'>\n",
      "RangeIndex: 476337 entries, 0 to 476336\n",
      "Data columns (total 24 columns):\n",
      "DR Number                            476337 non-null int64\n",
      "Date Reported                        476337 non-null object\n",
      "Date Occurred                        476337 non-null object\n",
      "Time Occurred                        476337 non-null int64\n",
      "Area ID                              476337 non-null int64\n",
      "Area Name                            476337 non-null object\n",
      "Reporting District                   476337 non-null int64\n",
      "Crime Code                           476337 non-null int64\n",
      "Crime Code Description               476337 non-null object\n",
      "MO Codes                             391462 non-null object\n",
      "Victim Age                           398919 non-null float64\n",
      "Victim Sex                           469409 non-null object\n",
      "Victim Descent                       468704 non-null object\n",
      "Premise Code                         476312 non-null float64\n",
      "Premise Description                  476312 non-null object\n",
      "Address                              476337 non-null object\n",
      "Cross Street                         455199 non-null object\n",
      "Location                             476337 non-null object\n",
      "Zip Codes                            475942 non-null float64\n",
      "Census Tracts                        469876 non-null float64\n",
      "Precinct Boundaries                  473273 non-null float64\n",
      "LA Specific Plans                    175235 non-null float64\n",
      "Council Districts                    470691 non-null float64\n",
      "Neighborhood Councils (Certified)    452550 non-null float64\n",
      "dtypes: float64(8), int64(5), object(11)\n",
      "memory usage: 87.2+ MB\n"
     ]
    }
   ],
   "source": [
    "df.info()"
   ]
  },
  {
   "cell_type": "code",
   "execution_count": 6,
   "metadata": {},
   "outputs": [
    {
     "data": {
      "text/plain": [
       "DR Number                                 0\n",
       "Date Reported                             0\n",
       "Date Occurred                             0\n",
       "Time Occurred                             0\n",
       "Area ID                                   0\n",
       "Area Name                                 0\n",
       "Reporting District                        0\n",
       "Crime Code                                0\n",
       "Crime Code Description                    0\n",
       "MO Codes                              84875\n",
       "Victim Age                            77418\n",
       "Victim Sex                             6928\n",
       "Victim Descent                         7633\n",
       "Premise Code                             25\n",
       "Premise Description                      25\n",
       "Address                                   0\n",
       "Cross Street                          21138\n",
       "Location                                  0\n",
       "Zip Codes                               395\n",
       "Census Tracts                          6461\n",
       "Precinct Boundaries                    3064\n",
       "LA Specific Plans                    301102\n",
       "Council Districts                      5646\n",
       "Neighborhood Councils (Certified)     23787\n",
       "dtype: int64"
      ]
     },
     "execution_count": 6,
     "metadata": {},
     "output_type": "execute_result"
    }
   ],
   "source": [
    "# Find Null Values\n",
    "pd.isnull(df).sum()"
   ]
  },
  {
   "cell_type": "code",
   "execution_count": 7,
   "metadata": {
    "collapsed": true
   },
   "outputs": [],
   "source": [
    "df.drop([\"DR Number\", # For search purpose not useful here\n",
    "         \"Area ID\", # We have Area Name\n",
    "         \"Crime Code\", # Uniform\n",
    "         \"Crime Code Description\", # Uniform\n",
    "         \"Premise Code\",  # Could use Premise Description\n",
    "         \"Date Reported\", # More intrested in date occured\n",
    "         \"Neighborhood Councils (Certified)\", # Meaningless without description\n",
    "         \"Census Tracts\", # Meaningless without description\n",
    "         \"Council Districts\", # Irrelevant\n",
    "         \"MO Codes\", # Too much null values\n",
    "         \"LA Specific Plans\"], # Too much null values\n",
    "         axis=1, inplace=True)"
   ]
  },
  {
   "cell_type": "code",
   "execution_count": 8,
   "metadata": {},
   "outputs": [
    {
     "data": {
      "text/plain": [
       "Date Occurred              0\n",
       "Time Occurred              0\n",
       "Area Name                  0\n",
       "Reporting District         0\n",
       "Victim Age             77418\n",
       "Victim Sex              6928\n",
       "Victim Descent          7633\n",
       "Premise Description       25\n",
       "Address                    0\n",
       "Cross Street           21138\n",
       "Location                   0\n",
       "Zip Codes                395\n",
       "Precinct Boundaries     3064\n",
       "dtype: int64"
      ]
     },
     "execution_count": 8,
     "metadata": {},
     "output_type": "execute_result"
    }
   ],
   "source": [
    "pd.isnull(df).sum()"
   ]
  },
  {
   "cell_type": "code",
   "execution_count": 9,
   "metadata": {
    "collapsed": true
   },
   "outputs": [],
   "source": [
    "df.dropna(inplace=True)"
   ]
  },
  {
   "cell_type": "code",
   "execution_count": 10,
   "metadata": {},
   "outputs": [
    {
     "data": {
      "text/html": [
       "<div>\n",
       "<style scoped>\n",
       "    .dataframe tbody tr th:only-of-type {\n",
       "        vertical-align: middle;\n",
       "    }\n",
       "\n",
       "    .dataframe tbody tr th {\n",
       "        vertical-align: top;\n",
       "    }\n",
       "\n",
       "    .dataframe thead th {\n",
       "        text-align: right;\n",
       "    }\n",
       "</style>\n",
       "<table border=\"1\" class=\"dataframe\">\n",
       "  <thead>\n",
       "    <tr style=\"text-align: right;\">\n",
       "      <th></th>\n",
       "      <th>Date Occurred</th>\n",
       "      <th>Time Occurred</th>\n",
       "      <th>Area Name</th>\n",
       "      <th>Reporting District</th>\n",
       "      <th>Victim Age</th>\n",
       "      <th>Victim Sex</th>\n",
       "      <th>Victim Descent</th>\n",
       "      <th>Premise Description</th>\n",
       "      <th>Address</th>\n",
       "      <th>Cross Street</th>\n",
       "      <th>Location</th>\n",
       "      <th>Zip Codes</th>\n",
       "      <th>Precinct Boundaries</th>\n",
       "    </tr>\n",
       "  </thead>\n",
       "  <tbody>\n",
       "    <tr>\n",
       "      <th>0</th>\n",
       "      <td>2019-06-15T00:00:00.000</td>\n",
       "      <td>330</td>\n",
       "      <td>77th Street</td>\n",
       "      <td>1203</td>\n",
       "      <td>39.0</td>\n",
       "      <td>F</td>\n",
       "      <td>B</td>\n",
       "      <td>STREET</td>\n",
       "      <td>52ND                         ST</td>\n",
       "      <td>WESTERN                      AV</td>\n",
       "      <td>{'longitude': '-118.3089', 'latitude': '33.995...</td>\n",
       "      <td>24027.0</td>\n",
       "      <td>1049.0</td>\n",
       "    </tr>\n",
       "    <tr>\n",
       "      <th>2</th>\n",
       "      <td>2019-06-15T00:00:00.000</td>\n",
       "      <td>1200</td>\n",
       "      <td>Hollenbeck</td>\n",
       "      <td>469</td>\n",
       "      <td>69.0</td>\n",
       "      <td>M</td>\n",
       "      <td>H</td>\n",
       "      <td>STREET</td>\n",
       "      <td>4TH                          ST</td>\n",
       "      <td>INDIANA                      ST</td>\n",
       "      <td>{'longitude': '-118.1924', 'latitude': '34.032...</td>\n",
       "      <td>24028.0</td>\n",
       "      <td>956.0</td>\n",
       "    </tr>\n",
       "    <tr>\n",
       "      <th>4</th>\n",
       "      <td>2019-06-15T00:00:00.000</td>\n",
       "      <td>435</td>\n",
       "      <td>Southeast</td>\n",
       "      <td>1846</td>\n",
       "      <td>60.0</td>\n",
       "      <td>M</td>\n",
       "      <td>H</td>\n",
       "      <td>STREET</td>\n",
       "      <td>EVERS                        AV</td>\n",
       "      <td>111TH                        ST</td>\n",
       "      <td>{'longitude': '-118.2473', 'latitude': '33.934...</td>\n",
       "      <td>24354.0</td>\n",
       "      <td>1186.0</td>\n",
       "    </tr>\n",
       "    <tr>\n",
       "      <th>7</th>\n",
       "      <td>2019-06-15T00:00:00.000</td>\n",
       "      <td>650</td>\n",
       "      <td>West Valley</td>\n",
       "      <td>1039</td>\n",
       "      <td>25.0</td>\n",
       "      <td>M</td>\n",
       "      <td>H</td>\n",
       "      <td>STREET</td>\n",
       "      <td>VANOWEN                      ST</td>\n",
       "      <td>HASKELL                      AV</td>\n",
       "      <td>{'longitude': '-118.4749', 'latitude': '34.193...</td>\n",
       "      <td>19734.0</td>\n",
       "      <td>296.0</td>\n",
       "    </tr>\n",
       "    <tr>\n",
       "      <th>8</th>\n",
       "      <td>2019-06-15T00:00:00.000</td>\n",
       "      <td>400</td>\n",
       "      <td>Rampart</td>\n",
       "      <td>237</td>\n",
       "      <td>25.0</td>\n",
       "      <td>F</td>\n",
       "      <td>H</td>\n",
       "      <td>STREET</td>\n",
       "      <td>CORTEZ                       ST</td>\n",
       "      <td>DAWSON                       ST</td>\n",
       "      <td>{'longitude': '-118.2632', 'latitude': '34.067...</td>\n",
       "      <td>23444.0</td>\n",
       "      <td>930.0</td>\n",
       "    </tr>\n",
       "  </tbody>\n",
       "</table>\n",
       "</div>"
      ],
      "text/plain": [
       "             Date Occurred  Time Occurred    Area Name  Reporting District  \\\n",
       "0  2019-06-15T00:00:00.000            330  77th Street                1203   \n",
       "2  2019-06-15T00:00:00.000           1200   Hollenbeck                 469   \n",
       "4  2019-06-15T00:00:00.000            435    Southeast                1846   \n",
       "7  2019-06-15T00:00:00.000            650  West Valley                1039   \n",
       "8  2019-06-15T00:00:00.000            400      Rampart                 237   \n",
       "\n",
       "   Victim Age Victim Sex Victim Descent Premise Description  \\\n",
       "0        39.0          F              B              STREET   \n",
       "2        69.0          M              H              STREET   \n",
       "4        60.0          M              H              STREET   \n",
       "7        25.0          M              H              STREET   \n",
       "8        25.0          F              H              STREET   \n",
       "\n",
       "                           Address                     Cross Street  \\\n",
       "0  52ND                         ST  WESTERN                      AV   \n",
       "2  4TH                          ST  INDIANA                      ST   \n",
       "4  EVERS                        AV  111TH                        ST   \n",
       "7  VANOWEN                      ST  HASKELL                      AV   \n",
       "8  CORTEZ                       ST  DAWSON                       ST   \n",
       "\n",
       "                                            Location  Zip Codes  \\\n",
       "0  {'longitude': '-118.3089', 'latitude': '33.995...    24027.0   \n",
       "2  {'longitude': '-118.1924', 'latitude': '34.032...    24028.0   \n",
       "4  {'longitude': '-118.2473', 'latitude': '33.934...    24354.0   \n",
       "7  {'longitude': '-118.4749', 'latitude': '34.193...    19734.0   \n",
       "8  {'longitude': '-118.2632', 'latitude': '34.067...    23444.0   \n",
       "\n",
       "   Precinct Boundaries  \n",
       "0               1049.0  \n",
       "2                956.0  \n",
       "4               1186.0  \n",
       "7                296.0  \n",
       "8                930.0  "
      ]
     },
     "execution_count": 10,
     "metadata": {},
     "output_type": "execute_result"
    }
   ],
   "source": [
    "df.head()"
   ]
  },
  {
   "cell_type": "code",
   "execution_count": 12,
   "metadata": {},
   "outputs": [],
   "source": [
    "df.columns = ['date', 'hour', 'area', 'district', 'victim_age', 'victim_sex', 'victim_race', 'premise', 'address', 'cross_street', 'location', 'zip_code', 'precinct_boundary']"
   ]
  },
  {
   "cell_type": "code",
   "execution_count": 13,
   "metadata": {},
   "outputs": [
    {
     "data": {
      "text/html": [
       "<div>\n",
       "<style scoped>\n",
       "    .dataframe tbody tr th:only-of-type {\n",
       "        vertical-align: middle;\n",
       "    }\n",
       "\n",
       "    .dataframe tbody tr th {\n",
       "        vertical-align: top;\n",
       "    }\n",
       "\n",
       "    .dataframe thead th {\n",
       "        text-align: right;\n",
       "    }\n",
       "</style>\n",
       "<table border=\"1\" class=\"dataframe\">\n",
       "  <thead>\n",
       "    <tr style=\"text-align: right;\">\n",
       "      <th></th>\n",
       "      <th>date</th>\n",
       "      <th>hour</th>\n",
       "      <th>area</th>\n",
       "      <th>district</th>\n",
       "      <th>victim_age</th>\n",
       "      <th>victim_sex</th>\n",
       "      <th>victim_race</th>\n",
       "      <th>premise</th>\n",
       "      <th>address</th>\n",
       "      <th>cross_street</th>\n",
       "      <th>location</th>\n",
       "      <th>zip_code</th>\n",
       "      <th>precinct_boundary</th>\n",
       "    </tr>\n",
       "  </thead>\n",
       "  <tbody>\n",
       "    <tr>\n",
       "      <th>0</th>\n",
       "      <td>2019-06-15T00:00:00.000</td>\n",
       "      <td>330</td>\n",
       "      <td>77th Street</td>\n",
       "      <td>1203</td>\n",
       "      <td>39.0</td>\n",
       "      <td>F</td>\n",
       "      <td>B</td>\n",
       "      <td>STREET</td>\n",
       "      <td>52ND                         ST</td>\n",
       "      <td>WESTERN                      AV</td>\n",
       "      <td>{'longitude': '-118.3089', 'latitude': '33.995...</td>\n",
       "      <td>24027.0</td>\n",
       "      <td>1049.0</td>\n",
       "    </tr>\n",
       "    <tr>\n",
       "      <th>2</th>\n",
       "      <td>2019-06-15T00:00:00.000</td>\n",
       "      <td>1200</td>\n",
       "      <td>Hollenbeck</td>\n",
       "      <td>469</td>\n",
       "      <td>69.0</td>\n",
       "      <td>M</td>\n",
       "      <td>H</td>\n",
       "      <td>STREET</td>\n",
       "      <td>4TH                          ST</td>\n",
       "      <td>INDIANA                      ST</td>\n",
       "      <td>{'longitude': '-118.1924', 'latitude': '34.032...</td>\n",
       "      <td>24028.0</td>\n",
       "      <td>956.0</td>\n",
       "    </tr>\n",
       "    <tr>\n",
       "      <th>4</th>\n",
       "      <td>2019-06-15T00:00:00.000</td>\n",
       "      <td>435</td>\n",
       "      <td>Southeast</td>\n",
       "      <td>1846</td>\n",
       "      <td>60.0</td>\n",
       "      <td>M</td>\n",
       "      <td>H</td>\n",
       "      <td>STREET</td>\n",
       "      <td>EVERS                        AV</td>\n",
       "      <td>111TH                        ST</td>\n",
       "      <td>{'longitude': '-118.2473', 'latitude': '33.934...</td>\n",
       "      <td>24354.0</td>\n",
       "      <td>1186.0</td>\n",
       "    </tr>\n",
       "    <tr>\n",
       "      <th>7</th>\n",
       "      <td>2019-06-15T00:00:00.000</td>\n",
       "      <td>650</td>\n",
       "      <td>West Valley</td>\n",
       "      <td>1039</td>\n",
       "      <td>25.0</td>\n",
       "      <td>M</td>\n",
       "      <td>H</td>\n",
       "      <td>STREET</td>\n",
       "      <td>VANOWEN                      ST</td>\n",
       "      <td>HASKELL                      AV</td>\n",
       "      <td>{'longitude': '-118.4749', 'latitude': '34.193...</td>\n",
       "      <td>19734.0</td>\n",
       "      <td>296.0</td>\n",
       "    </tr>\n",
       "    <tr>\n",
       "      <th>8</th>\n",
       "      <td>2019-06-15T00:00:00.000</td>\n",
       "      <td>400</td>\n",
       "      <td>Rampart</td>\n",
       "      <td>237</td>\n",
       "      <td>25.0</td>\n",
       "      <td>F</td>\n",
       "      <td>H</td>\n",
       "      <td>STREET</td>\n",
       "      <td>CORTEZ                       ST</td>\n",
       "      <td>DAWSON                       ST</td>\n",
       "      <td>{'longitude': '-118.2632', 'latitude': '34.067...</td>\n",
       "      <td>23444.0</td>\n",
       "      <td>930.0</td>\n",
       "    </tr>\n",
       "  </tbody>\n",
       "</table>\n",
       "</div>"
      ],
      "text/plain": [
       "                      date  hour         area  district  victim_age  \\\n",
       "0  2019-06-15T00:00:00.000   330  77th Street      1203        39.0   \n",
       "2  2019-06-15T00:00:00.000  1200   Hollenbeck       469        69.0   \n",
       "4  2019-06-15T00:00:00.000   435    Southeast      1846        60.0   \n",
       "7  2019-06-15T00:00:00.000   650  West Valley      1039        25.0   \n",
       "8  2019-06-15T00:00:00.000   400      Rampart       237        25.0   \n",
       "\n",
       "  victim_sex victim_race premise                          address  \\\n",
       "0          F           B  STREET  52ND                         ST   \n",
       "2          M           H  STREET  4TH                          ST   \n",
       "4          M           H  STREET  EVERS                        AV   \n",
       "7          M           H  STREET  VANOWEN                      ST   \n",
       "8          F           H  STREET  CORTEZ                       ST   \n",
       "\n",
       "                      cross_street  \\\n",
       "0  WESTERN                      AV   \n",
       "2  INDIANA                      ST   \n",
       "4  111TH                        ST   \n",
       "7  HASKELL                      AV   \n",
       "8  DAWSON                       ST   \n",
       "\n",
       "                                            location  zip_code  \\\n",
       "0  {'longitude': '-118.3089', 'latitude': '33.995...   24027.0   \n",
       "2  {'longitude': '-118.1924', 'latitude': '34.032...   24028.0   \n",
       "4  {'longitude': '-118.2473', 'latitude': '33.934...   24354.0   \n",
       "7  {'longitude': '-118.4749', 'latitude': '34.193...   19734.0   \n",
       "8  {'longitude': '-118.2632', 'latitude': '34.067...   23444.0   \n",
       "\n",
       "   precinct_boundary  \n",
       "0             1049.0  \n",
       "2              956.0  \n",
       "4             1186.0  \n",
       "7              296.0  \n",
       "8              930.0  "
      ]
     },
     "execution_count": 13,
     "metadata": {},
     "output_type": "execute_result"
    }
   ],
   "source": [
    "df.head()"
   ]
  },
  {
   "cell_type": "code",
   "execution_count": 19,
   "metadata": {
    "collapsed": true
   },
   "outputs": [],
   "source": [
    "race_dict = {'H':'Hispanic', 'B':'Black', 'O':'Unknown', 'W':'White', 'X':'Unknown', '-':'Unknown',\n",
    "             'A':'Asian', 'K':'Asian', 'C':'Asian', 'F':'Asian', 'U':'Pacific Islander',\n",
    "             'J':'Asian', 'P':'Pacific Islander', 'V':'Asian', 'Z':'Asian',\n",
    "             'I':'American Indian', 'G':'Pacific Islander', 'S':'Pacific Islander', 'D':'Asian', 'L':'Asian'}"
   ]
  },
  {
   "cell_type": "code",
   "execution_count": 15,
   "metadata": {
    "collapsed": true
   },
   "outputs": [],
   "source": [
    "df.victim_race = df.victim_race.map(race_dict)"
   ]
  },
  {
   "cell_type": "code",
   "execution_count": 16,
   "metadata": {},
   "outputs": [
    {
     "data": {
      "text/plain": [
       "Hispanic            148831\n",
       "White                96901\n",
       "Unknown              56136\n",
       "Black                55776\n",
       "Asian                22278\n",
       "Pacific Islander       415\n",
       "American Indian        128\n",
       "Name: victim_race, dtype: int64"
      ]
     },
     "execution_count": 16,
     "metadata": {},
     "output_type": "execute_result"
    }
   ],
   "source": [
    "df.victim_race.value_counts()"
   ]
  },
  {
   "cell_type": "code",
   "execution_count": 20,
   "metadata": {},
   "outputs": [
    {
     "data": {
      "text/plain": [
       "0    2019-06-15T00:00:00.000\n",
       "2    2019-06-15T00:00:00.000\n",
       "4    2019-06-15T00:00:00.000\n",
       "7    2019-06-15T00:00:00.000\n",
       "8    2019-06-15T00:00:00.000\n",
       "Name: date, dtype: object"
      ]
     },
     "execution_count": 20,
     "metadata": {},
     "output_type": "execute_result"
    }
   ],
   "source": [
    "df.date.head()"
   ]
  },
  {
   "cell_type": "code",
   "execution_count": 21,
   "metadata": {
    "collapsed": true
   },
   "outputs": [],
   "source": [
    "df.date = pd.to_datetime(df.date)"
   ]
  },
  {
   "cell_type": "code",
   "execution_count": 24,
   "metadata": {},
   "outputs": [
    {
     "data": {
      "text/plain": [
       "0   2019-06-15\n",
       "2   2019-06-15\n",
       "4   2019-06-15\n",
       "7   2019-06-15\n",
       "8   2019-06-15\n",
       "Name: date, dtype: datetime64[ns]"
      ]
     },
     "execution_count": 24,
     "metadata": {},
     "output_type": "execute_result"
    }
   ],
   "source": [
    "df.date.head()"
   ]
  },
  {
   "cell_type": "code",
   "execution_count": 30,
   "metadata": {
    "collapsed": true
   },
   "outputs": [],
   "source": [
    "df[\"year\"] = df.date.dt.year\n",
    "df[\"day_of_week\"] = df.date.dt.dayofweek\n",
    "df.hour = df.hour.astype(str)"
   ]
  },
  {
   "cell_type": "code",
   "execution_count": 31,
   "metadata": {},
   "outputs": [],
   "source": [
    "df.hour = [i[:2] if len(i) == 4 else i[0] for i in df[\"hour\"]]\n",
    "df.hour = df.hour.astype(int)"
   ]
  },
  {
   "cell_type": "code",
   "execution_count": 35,
   "metadata": {},
   "outputs": [],
   "source": [
    "df['location'] = [ast.literal_eval(d) for d in df.location]\n",
    "df['longitude'] = [d['longitude'] for d in df.location]\n",
    "df['latitude'] = [d['latitude'] for d in df.location]\n",
    "df.longitude = df.longitude.astype(float)\n",
    "df.latitude = df.latitude.astype(float)"
   ]
  },
  {
   "cell_type": "code",
   "execution_count": 37,
   "metadata": {},
   "outputs": [],
   "source": [
    "df.index = pd.DatetimeIndex(df.date)"
   ]
  },
  {
   "cell_type": "code",
   "execution_count": 38,
   "metadata": {},
   "outputs": [
    {
     "data": {
      "text/html": [
       "<div>\n",
       "<style scoped>\n",
       "    .dataframe tbody tr th:only-of-type {\n",
       "        vertical-align: middle;\n",
       "    }\n",
       "\n",
       "    .dataframe tbody tr th {\n",
       "        vertical-align: top;\n",
       "    }\n",
       "\n",
       "    .dataframe thead th {\n",
       "        text-align: right;\n",
       "    }\n",
       "</style>\n",
       "<table border=\"1\" class=\"dataframe\">\n",
       "  <thead>\n",
       "    <tr style=\"text-align: right;\">\n",
       "      <th></th>\n",
       "      <th>date</th>\n",
       "      <th>hour</th>\n",
       "      <th>area</th>\n",
       "      <th>district</th>\n",
       "      <th>victim_age</th>\n",
       "      <th>victim_sex</th>\n",
       "      <th>victim_race</th>\n",
       "      <th>premise</th>\n",
       "      <th>address</th>\n",
       "      <th>cross_street</th>\n",
       "      <th>location</th>\n",
       "      <th>zip_code</th>\n",
       "      <th>precinct_boundary</th>\n",
       "      <th>year</th>\n",
       "      <th>day_of_week</th>\n",
       "      <th>longitude</th>\n",
       "      <th>latitude</th>\n",
       "    </tr>\n",
       "    <tr>\n",
       "      <th>date</th>\n",
       "      <th></th>\n",
       "      <th></th>\n",
       "      <th></th>\n",
       "      <th></th>\n",
       "      <th></th>\n",
       "      <th></th>\n",
       "      <th></th>\n",
       "      <th></th>\n",
       "      <th></th>\n",
       "      <th></th>\n",
       "      <th></th>\n",
       "      <th></th>\n",
       "      <th></th>\n",
       "      <th></th>\n",
       "      <th></th>\n",
       "      <th></th>\n",
       "      <th></th>\n",
       "    </tr>\n",
       "  </thead>\n",
       "  <tbody>\n",
       "    <tr>\n",
       "      <th>2019-06-15</th>\n",
       "      <td>2019-06-15</td>\n",
       "      <td>3</td>\n",
       "      <td>77th Street</td>\n",
       "      <td>1203</td>\n",
       "      <td>39.0</td>\n",
       "      <td>F</td>\n",
       "      <td>Black</td>\n",
       "      <td>STREET</td>\n",
       "      <td>52ND                         ST</td>\n",
       "      <td>WESTERN                      AV</td>\n",
       "      <td>{'longitude': '-118.3089', 'latitude': '33.995...</td>\n",
       "      <td>24027.0</td>\n",
       "      <td>1049.0</td>\n",
       "      <td>2019</td>\n",
       "      <td>5</td>\n",
       "      <td>-118.3089</td>\n",
       "      <td>33.9951</td>\n",
       "    </tr>\n",
       "    <tr>\n",
       "      <th>2019-06-15</th>\n",
       "      <td>2019-06-15</td>\n",
       "      <td>1</td>\n",
       "      <td>Hollenbeck</td>\n",
       "      <td>469</td>\n",
       "      <td>69.0</td>\n",
       "      <td>M</td>\n",
       "      <td>Hispanic</td>\n",
       "      <td>STREET</td>\n",
       "      <td>4TH                          ST</td>\n",
       "      <td>INDIANA                      ST</td>\n",
       "      <td>{'longitude': '-118.1924', 'latitude': '34.032...</td>\n",
       "      <td>24028.0</td>\n",
       "      <td>956.0</td>\n",
       "      <td>2019</td>\n",
       "      <td>5</td>\n",
       "      <td>-118.1924</td>\n",
       "      <td>34.0320</td>\n",
       "    </tr>\n",
       "    <tr>\n",
       "      <th>2019-06-15</th>\n",
       "      <td>2019-06-15</td>\n",
       "      <td>4</td>\n",
       "      <td>Southeast</td>\n",
       "      <td>1846</td>\n",
       "      <td>60.0</td>\n",
       "      <td>M</td>\n",
       "      <td>Hispanic</td>\n",
       "      <td>STREET</td>\n",
       "      <td>EVERS                        AV</td>\n",
       "      <td>111TH                        ST</td>\n",
       "      <td>{'longitude': '-118.2473', 'latitude': '33.934...</td>\n",
       "      <td>24354.0</td>\n",
       "      <td>1186.0</td>\n",
       "      <td>2019</td>\n",
       "      <td>5</td>\n",
       "      <td>-118.2473</td>\n",
       "      <td>33.9348</td>\n",
       "    </tr>\n",
       "    <tr>\n",
       "      <th>2019-06-15</th>\n",
       "      <td>2019-06-15</td>\n",
       "      <td>6</td>\n",
       "      <td>West Valley</td>\n",
       "      <td>1039</td>\n",
       "      <td>25.0</td>\n",
       "      <td>M</td>\n",
       "      <td>Hispanic</td>\n",
       "      <td>STREET</td>\n",
       "      <td>VANOWEN                      ST</td>\n",
       "      <td>HASKELL                      AV</td>\n",
       "      <td>{'longitude': '-118.4749', 'latitude': '34.193...</td>\n",
       "      <td>19734.0</td>\n",
       "      <td>296.0</td>\n",
       "      <td>2019</td>\n",
       "      <td>5</td>\n",
       "      <td>-118.4749</td>\n",
       "      <td>34.1939</td>\n",
       "    </tr>\n",
       "    <tr>\n",
       "      <th>2019-06-15</th>\n",
       "      <td>2019-06-15</td>\n",
       "      <td>4</td>\n",
       "      <td>Rampart</td>\n",
       "      <td>237</td>\n",
       "      <td>25.0</td>\n",
       "      <td>F</td>\n",
       "      <td>Hispanic</td>\n",
       "      <td>STREET</td>\n",
       "      <td>CORTEZ                       ST</td>\n",
       "      <td>DAWSON                       ST</td>\n",
       "      <td>{'longitude': '-118.2632', 'latitude': '34.067...</td>\n",
       "      <td>23444.0</td>\n",
       "      <td>930.0</td>\n",
       "      <td>2019</td>\n",
       "      <td>5</td>\n",
       "      <td>-118.2632</td>\n",
       "      <td>34.0678</td>\n",
       "    </tr>\n",
       "  </tbody>\n",
       "</table>\n",
       "</div>"
      ],
      "text/plain": [
       "                 date  hour         area  district  victim_age victim_sex  \\\n",
       "date                                                                        \n",
       "2019-06-15 2019-06-15     3  77th Street      1203        39.0          F   \n",
       "2019-06-15 2019-06-15     1   Hollenbeck       469        69.0          M   \n",
       "2019-06-15 2019-06-15     4    Southeast      1846        60.0          M   \n",
       "2019-06-15 2019-06-15     6  West Valley      1039        25.0          M   \n",
       "2019-06-15 2019-06-15     4      Rampart       237        25.0          F   \n",
       "\n",
       "           victim_race premise                          address  \\\n",
       "date                                                              \n",
       "2019-06-15       Black  STREET  52ND                         ST   \n",
       "2019-06-15    Hispanic  STREET  4TH                          ST   \n",
       "2019-06-15    Hispanic  STREET  EVERS                        AV   \n",
       "2019-06-15    Hispanic  STREET  VANOWEN                      ST   \n",
       "2019-06-15    Hispanic  STREET  CORTEZ                       ST   \n",
       "\n",
       "                               cross_street  \\\n",
       "date                                          \n",
       "2019-06-15  WESTERN                      AV   \n",
       "2019-06-15  INDIANA                      ST   \n",
       "2019-06-15  111TH                        ST   \n",
       "2019-06-15  HASKELL                      AV   \n",
       "2019-06-15  DAWSON                       ST   \n",
       "\n",
       "                                                     location  zip_code  \\\n",
       "date                                                                      \n",
       "2019-06-15  {'longitude': '-118.3089', 'latitude': '33.995...   24027.0   \n",
       "2019-06-15  {'longitude': '-118.1924', 'latitude': '34.032...   24028.0   \n",
       "2019-06-15  {'longitude': '-118.2473', 'latitude': '33.934...   24354.0   \n",
       "2019-06-15  {'longitude': '-118.4749', 'latitude': '34.193...   19734.0   \n",
       "2019-06-15  {'longitude': '-118.2632', 'latitude': '34.067...   23444.0   \n",
       "\n",
       "            precinct_boundary  year  day_of_week  longitude  latitude  \n",
       "date                                                                   \n",
       "2019-06-15             1049.0  2019            5  -118.3089   33.9951  \n",
       "2019-06-15              956.0  2019            5  -118.1924   34.0320  \n",
       "2019-06-15             1186.0  2019            5  -118.2473   33.9348  \n",
       "2019-06-15              296.0  2019            5  -118.4749   34.1939  \n",
       "2019-06-15              930.0  2019            5  -118.2632   34.0678  "
      ]
     },
     "execution_count": 38,
     "metadata": {},
     "output_type": "execute_result"
    }
   ],
   "source": [
    "df.head()"
   ]
  },
  {
   "cell_type": "markdown",
   "metadata": {},
   "source": [
    "## Total accidents per day"
   ]
  },
  {
   "cell_type": "code",
   "execution_count": 39,
   "metadata": {
    "collapsed": true
   },
   "outputs": [],
   "source": [
    "accidents_per_day = pd.DataFrame(df.resample('D').size())"
   ]
  },
  {
   "cell_type": "code",
   "execution_count": 46,
   "metadata": {
    "collapsed": true
   },
   "outputs": [],
   "source": [
    "accidents_per_day['mean'] = df.resample('D').size().mean()\n",
    "accidents_per_day['std'] = df.resample('D').size().std()"
   ]
  },
  {
   "cell_type": "code",
   "execution_count": 47,
   "metadata": {},
   "outputs": [
    {
     "data": {
      "image/png": "[encoded data removed]",
      "text/plain": [
       "<matplotlib.figure.Figure at 0x7ff3880f6c88>"
      ]
     },
     "metadata": {
      "needs_background": "light"
     },
     "output_type": "display_data"
    }
   ],
   "source": [
    "UCL = accidents_per_day['mean'] + 3 * accidents_per_day['std']\n",
    "LCL = accidents_per_day['mean'] - 3 * accidents_per_day['std']\n",
    "plt.figure(figsize=(15,6))\n",
    "df.resample('D').size().plot(label='Accidents per day', color='sandybrown')\n",
    "UCL.plot(color='red', ls='--', linewidth=1.5, label='UCL')\n",
    "LCL.plot(color='red', ls='--', linewidth=1.5, label='LCL')\n",
    "accidents_per_day['mean'].plot(color='red', linewidth=2, label='Average')\n",
    "plt.title('Total accidents per day', fontsize=16)\n",
    "plt.xlabel('Day')\n",
    "plt.ylabel('Number of accidents')\n",
    "plt.tick_params(labelsize=14)"
   ]
  },
  {
   "cell_type": "code",
   "execution_count": 49,
   "metadata": {},
   "outputs": [
    {
     "name": "stderr",
     "output_type": "stream",
     "text": [
      "/home/jwkang/anaconda3/lib/python3.6/site-packages/ipykernel_launcher.py:3: FutureWarning: Comparing Series of datetimes with 'datetime.date'.  Currently, the\n",
      "'datetime.date' is coerced to a datetime. In the future pandas will\n",
      "not coerce, and a TypeError will be raised. To retain the current\n",
      "behavior, convert the 'datetime.date' to a datetime with\n",
      "'pd.Timestamp'.\n",
      "  This is separate from the ipykernel package so we can avoid doing imports until\n"
     ]
    }
   ],
   "source": [
    "import datetime\n",
    "date_before = datetime.date(2019, 6, 1)\n",
    "df = df[df.date < date_before]"
   ]
  },
  {
   "cell_type": "markdown",
   "metadata": {},
   "source": [
    "## Total accidents per month"
   ]
  },
  {
   "cell_type": "code",
   "execution_count": 55,
   "metadata": {},
   "outputs": [
    {
     "data": {
      "text/plain": [
       "Text(0.5,1,'Total accidents per month')"
      ]
     },
     "execution_count": 55,
     "metadata": {},
     "output_type": "execute_result"
    },
    {
     "data": {
      "image/png": "[encoded data removed]",
      "text/plain": [
       "<matplotlib.figure.Figure at 0x7ff387a8d908>"
      ]
     },
     "metadata": {
      "needs_background": "light"
     },
     "output_type": "display_data"
    }
   ],
   "source": [
    "month_df = df.resample('M').size()\n",
    "plt.figure(figsize=(15, 6))\n",
    "month_df.plot(label='Total accidents per month', color='sandybrown')\n",
    "month_df.rolling(window=12).mean().plot(color='red', linewidth=5, label='12-Months Average')\n",
    "plt.title('Total accidents per month', fontsize=16)"
   ]
  },
  {
   "cell_type": "code",
   "execution_count": 56,
   "metadata": {},
   "outputs": [
    {
     "name": "stdout",
     "output_type": "stream",
     "text": [
      "Best Month 2013-02-28 00:00:00: 2609\n",
      "Worst Month 2018-10-31 00:00:00: 4202\n"
     ]
    }
   ],
   "source": [
    "print(\"Best Month {0}: {1}\".format(month_df.idxmin(), month_df[month_df.idxmin()]))\n",
    "print(\"Worst Month {0}: {1}\".format(month_df.idxmax(), month_df[month_df.idxmax()]))"
   ]
  },
  {
   "cell_type": "markdown",
   "metadata": {},
   "source": [
    "## Accidents per weekday"
   ]
  },
  {
   "cell_type": "code",
   "execution_count": 57,
   "metadata": {
    "collapsed": true
   },
   "outputs": [],
   "source": [
    "weekdays = ['Sun', 'Mon', 'Tue', 'Wed', 'Thu', 'Fri', 'Sat']\n",
    "week_df = pd.DataFrame(df[\"day_of_week\"].value_counts()).sort_index()"
   ]
  },
  {
   "cell_type": "code",
   "execution_count": 60,
   "metadata": {},
   "outputs": [],
   "source": [
    "week_df[\"day\"] = weekdays"
   ]
  },
  {
   "cell_type": "code",
   "execution_count": 63,
   "metadata": {},
   "outputs": [
    {
     "data": {
      "text/html": [
       "<div>\n",
       "<style scoped>\n",
       "    .dataframe tbody tr th:only-of-type {\n",
       "        vertical-align: middle;\n",
       "    }\n",
       "\n",
       "    .dataframe tbody tr th {\n",
       "        vertical-align: top;\n",
       "    }\n",
       "\n",
       "    .dataframe thead th {\n",
       "        text-align: right;\n",
       "    }\n",
       "</style>\n",
       "<table border=\"1\" class=\"dataframe\">\n",
       "  <thead>\n",
       "    <tr style=\"text-align: right;\">\n",
       "      <th></th>\n",
       "      <th>Accident counts</th>\n",
       "      <th>Week day</th>\n",
       "    </tr>\n",
       "  </thead>\n",
       "  <tbody>\n",
       "    <tr>\n",
       "      <th>0</th>\n",
       "      <td>52570</td>\n",
       "      <td>Sun</td>\n",
       "    </tr>\n",
       "    <tr>\n",
       "      <th>1</th>\n",
       "      <td>54265</td>\n",
       "      <td>Mon</td>\n",
       "    </tr>\n",
       "    <tr>\n",
       "      <th>2</th>\n",
       "      <td>54738</td>\n",
       "      <td>Tue</td>\n",
       "    </tr>\n",
       "    <tr>\n",
       "      <th>3</th>\n",
       "      <td>55466</td>\n",
       "      <td>Wed</td>\n",
       "    </tr>\n",
       "    <tr>\n",
       "      <th>4</th>\n",
       "      <td>60867</td>\n",
       "      <td>Thu</td>\n",
       "    </tr>\n",
       "    <tr>\n",
       "      <th>5</th>\n",
       "      <td>53388</td>\n",
       "      <td>Fri</td>\n",
       "    </tr>\n",
       "    <tr>\n",
       "      <th>6</th>\n",
       "      <td>47630</td>\n",
       "      <td>Sat</td>\n",
       "    </tr>\n",
       "  </tbody>\n",
       "</table>\n",
       "</div>"
      ],
      "text/plain": [
       "   Accident counts Week day\n",
       "0            52570      Sun\n",
       "1            54265      Mon\n",
       "2            54738      Tue\n",
       "3            55466      Wed\n",
       "4            60867      Thu\n",
       "5            53388      Fri\n",
       "6            47630      Sat"
      ]
     },
     "execution_count": 63,
     "metadata": {},
     "output_type": "execute_result"
    }
   ],
   "source": [
    "week_df.columns = [\"Accident counts\", \"Week day\"]\n",
    "week_df"
   ]
  },
  {
   "cell_type": "markdown",
   "metadata": {},
   "source": [
    "Why Thursday??"
   ]
  },
  {
   "cell_type": "code",
   "execution_count": 66,
   "metadata": {
    "scrolled": true
   },
   "outputs": [
    {
     "data": {
      "text/plain": [
       "<matplotlib.axes._subplots.AxesSubplot at 0x7ff39e1e7048>"
      ]
     },
     "execution_count": 66,
     "metadata": {},
     "output_type": "execute_result"
    },
    {
     "data": {
      "image/png": "[encoded data removed]",
      "text/plain": [
       "<matplotlib.figure.Figure at 0x7ff387c325c0>"
      ]
     },
     "metadata": {
      "needs_background": "light"
     },
     "output_type": "display_data"
    }
   ],
   "source": [
    "plt.figure(figsize=(12,8))\n",
    "sns.barplot(x=\"Week day\", y=\"Accident counts\", color=\"skyblue\", data=week_df)"
   ]
  }
 ],
 "metadata": {
  "kernelspec": {
   "display_name": "Python 3",
   "language": "python",
   "name": "python3"
  },
  "language_info": {
   "codemirror_mode": {
    "name": "ipython",
    "version": 3
   },
   "file_extension": ".py",
   "mimetype": "text/x-python",
   "name": "python",
   "nbconvert_exporter": "python",
   "pygments_lexer": "ipython3",
   "version": "3.6.7"
  }
 },
 "nbformat": 4,
 "nbformat_minor": 2
}
